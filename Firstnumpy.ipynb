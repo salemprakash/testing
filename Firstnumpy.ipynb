{
  "nbformat": 4,
  "nbformat_minor": 0,
  "metadata": {
    "colab": {
      "name": "Untitled1.ipynb",
      "provenance": [],
      "authorship_tag": "ABX9TyNwxSZ0y6KZN05eE/bhnLdm",
      "include_colab_link": true
    },
    "kernelspec": {
      "name": "python3",
      "display_name": "Python 3"
    }
  },
  "cells": [
    {
      "cell_type": "markdown",
      "metadata": {
        "id": "view-in-github",
        "colab_type": "text"
      },
      "source": [
        "<a href=\"https://colab.research.google.com/github/salemprakash/testing/blob/master/Firstnumpy.ipynb\" target=\"_parent\"><img src=\"https://colab.research.google.com/assets/colab-badge.svg\" alt=\"Open In Colab\"/></a>"
      ]
    },
    {
      "cell_type": "code",
      "metadata": {
        "id": "Pog4QfNh1rls",
        "colab_type": "code",
        "colab": {}
      },
      "source": [
        "import numpy as np"
      ],
      "execution_count": 1,
      "outputs": []
    },
    {
      "cell_type": "code",
      "metadata": {
        "id": "8C8mteB73r9S",
        "colab_type": "code",
        "colab": {
          "base_uri": "https://localhost:8080/",
          "height": 35
        },
        "outputId": "d3688a7d-e1a5-44ed-b8c5-4066628112f1"
      },
      "source": [
        "np.array([2,4,6,2,52,5,6,True])"
      ],
      "execution_count": 4,
      "outputs": [
        {
          "output_type": "execute_result",
          "data": {
            "text/plain": [
              "array([ 2,  4,  6,  2, 52,  5,  6,  1])"
            ]
          },
          "metadata": {
            "tags": []
          },
          "execution_count": 4
        }
      ]
    },
    {
      "cell_type": "code",
      "metadata": {
        "id": "pDiIkc5l41Nu",
        "colab_type": "code",
        "colab": {
          "base_uri": "https://localhost:8080/",
          "height": 164
        },
        "outputId": "b1ca2c14-79b9-49cc-a191-276074105400"
      },
      "source": [
        "np.arange(111,11,-1)"
      ],
      "execution_count": 10,
      "outputs": [
        {
          "output_type": "execute_result",
          "data": {
            "text/plain": [
              "array([111, 110, 109, 108, 107, 106, 105, 104, 103, 102, 101, 100,  99,\n",
              "        98,  97,  96,  95,  94,  93,  92,  91,  90,  89,  88,  87,  86,\n",
              "        85,  84,  83,  82,  81,  80,  79,  78,  77,  76,  75,  74,  73,\n",
              "        72,  71,  70,  69,  68,  67,  66,  65,  64,  63,  62,  61,  60,\n",
              "        59,  58,  57,  56,  55,  54,  53,  52,  51,  50,  49,  48,  47,\n",
              "        46,  45,  44,  43,  42,  41,  40,  39,  38,  37,  36,  35,  34,\n",
              "        33,  32,  31,  30,  29,  28,  27,  26,  25,  24,  23,  22,  21,\n",
              "        20,  19,  18,  17,  16,  15,  14,  13,  12])"
            ]
          },
          "metadata": {
            "tags": []
          },
          "execution_count": 10
        }
      ]
    },
    {
      "cell_type": "code",
      "metadata": {
        "id": "4GfUcuBc5h_1",
        "colab_type": "code",
        "colab": {
          "base_uri": "https://localhost:8080/",
          "height": 862
        },
        "outputId": "cd151b42-f350-43ff-f0f4-e419ba300e26"
      },
      "source": [
        "dir(list)"
      ],
      "execution_count": 12,
      "outputs": [
        {
          "output_type": "execute_result",
          "data": {
            "text/plain": [
              "['__add__',\n",
              " '__class__',\n",
              " '__contains__',\n",
              " '__delattr__',\n",
              " '__delitem__',\n",
              " '__dir__',\n",
              " '__doc__',\n",
              " '__eq__',\n",
              " '__format__',\n",
              " '__ge__',\n",
              " '__getattribute__',\n",
              " '__getitem__',\n",
              " '__gt__',\n",
              " '__hash__',\n",
              " '__iadd__',\n",
              " '__imul__',\n",
              " '__init__',\n",
              " '__init_subclass__',\n",
              " '__iter__',\n",
              " '__le__',\n",
              " '__len__',\n",
              " '__lt__',\n",
              " '__mul__',\n",
              " '__ne__',\n",
              " '__new__',\n",
              " '__reduce__',\n",
              " '__reduce_ex__',\n",
              " '__repr__',\n",
              " '__reversed__',\n",
              " '__rmul__',\n",
              " '__setattr__',\n",
              " '__setitem__',\n",
              " '__sizeof__',\n",
              " '__str__',\n",
              " '__subclasshook__',\n",
              " 'append',\n",
              " 'clear',\n",
              " 'copy',\n",
              " 'count',\n",
              " 'extend',\n",
              " 'index',\n",
              " 'insert',\n",
              " 'pop',\n",
              " 'remove',\n",
              " 'reverse',\n",
              " 'sort']"
            ]
          },
          "metadata": {
            "tags": []
          },
          "execution_count": 12
        }
      ]
    },
    {
      "cell_type": "code",
      "metadata": {
        "id": "Tw3AbIIC58jh",
        "colab_type": "code",
        "colab": {
          "base_uri": "https://localhost:8080/",
          "height": 201
        },
        "outputId": "2b6cd711-2363-4115-b9fd-81b907116136"
      },
      "source": [
        "np.linspace(1,10)"
      ],
      "execution_count": 13,
      "outputs": [
        {
          "output_type": "execute_result",
          "data": {
            "text/plain": [
              "array([ 1.        ,  1.18367347,  1.36734694,  1.55102041,  1.73469388,\n",
              "        1.91836735,  2.10204082,  2.28571429,  2.46938776,  2.65306122,\n",
              "        2.83673469,  3.02040816,  3.20408163,  3.3877551 ,  3.57142857,\n",
              "        3.75510204,  3.93877551,  4.12244898,  4.30612245,  4.48979592,\n",
              "        4.67346939,  4.85714286,  5.04081633,  5.2244898 ,  5.40816327,\n",
              "        5.59183673,  5.7755102 ,  5.95918367,  6.14285714,  6.32653061,\n",
              "        6.51020408,  6.69387755,  6.87755102,  7.06122449,  7.24489796,\n",
              "        7.42857143,  7.6122449 ,  7.79591837,  7.97959184,  8.16326531,\n",
              "        8.34693878,  8.53061224,  8.71428571,  8.89795918,  9.08163265,\n",
              "        9.26530612,  9.44897959,  9.63265306,  9.81632653, 10.        ])"
            ]
          },
          "metadata": {
            "tags": []
          },
          "execution_count": 13
        }
      ]
    },
    {
      "cell_type": "code",
      "metadata": {
        "id": "ct2jl8Ys6t9a",
        "colab_type": "code",
        "colab": {
          "base_uri": "https://localhost:8080/",
          "height": 127
        },
        "outputId": "0394645d-0c77-4f5c-f279-aedc84ed4c05"
      },
      "source": [
        "np.linspace(1,10,30)"
      ],
      "execution_count": 14,
      "outputs": [
        {
          "output_type": "execute_result",
          "data": {
            "text/plain": [
              "array([ 1.        ,  1.31034483,  1.62068966,  1.93103448,  2.24137931,\n",
              "        2.55172414,  2.86206897,  3.17241379,  3.48275862,  3.79310345,\n",
              "        4.10344828,  4.4137931 ,  4.72413793,  5.03448276,  5.34482759,\n",
              "        5.65517241,  5.96551724,  6.27586207,  6.5862069 ,  6.89655172,\n",
              "        7.20689655,  7.51724138,  7.82758621,  8.13793103,  8.44827586,\n",
              "        8.75862069,  9.06896552,  9.37931034,  9.68965517, 10.        ])"
            ]
          },
          "metadata": {
            "tags": []
          },
          "execution_count": 14
        }
      ]
    },
    {
      "cell_type": "code",
      "metadata": {
        "id": "u_FKcZ-C6zwX",
        "colab_type": "code",
        "colab": {
          "base_uri": "https://localhost:8080/",
          "height": 146
        },
        "outputId": "74651ac7-8b09-4d2f-8c8f-394338f8e5eb"
      },
      "source": [
        "np.linspace(1,10, num=30, retstep =True)"
      ],
      "execution_count": 16,
      "outputs": [
        {
          "output_type": "execute_result",
          "data": {
            "text/plain": [
              "(array([ 1.        ,  1.31034483,  1.62068966,  1.93103448,  2.24137931,\n",
              "         2.55172414,  2.86206897,  3.17241379,  3.48275862,  3.79310345,\n",
              "         4.10344828,  4.4137931 ,  4.72413793,  5.03448276,  5.34482759,\n",
              "         5.65517241,  5.96551724,  6.27586207,  6.5862069 ,  6.89655172,\n",
              "         7.20689655,  7.51724138,  7.82758621,  8.13793103,  8.44827586,\n",
              "         8.75862069,  9.06896552,  9.37931034,  9.68965517, 10.        ]),\n",
              " 0.3103448275862069)"
            ]
          },
          "metadata": {
            "tags": []
          },
          "execution_count": 16
        }
      ]
    },
    {
      "cell_type": "code",
      "metadata": {
        "id": "ff1yUA4a7CiZ",
        "colab_type": "code",
        "colab": {
          "base_uri": "https://localhost:8080/",
          "height": 35
        },
        "outputId": "2797bc06-1d10-49c7-aad3-235e44f889f3"
      },
      "source": [
        "np.random.randint(1,10)"
      ],
      "execution_count": 17,
      "outputs": [
        {
          "output_type": "execute_result",
          "data": {
            "text/plain": [
              "7"
            ]
          },
          "metadata": {
            "tags": []
          },
          "execution_count": 17
        }
      ]
    },
    {
      "cell_type": "code",
      "metadata": {
        "id": "ra32KqUg8CCj",
        "colab_type": "code",
        "colab": {
          "base_uri": "https://localhost:8080/",
          "height": 35
        },
        "outputId": "f751fe52-7e8b-4b3f-d164-d4a0dbcb7f6c"
      },
      "source": [
        "np.random.randint(1,10, 5)"
      ],
      "execution_count": 18,
      "outputs": [
        {
          "output_type": "execute_result",
          "data": {
            "text/plain": [
              "array([5, 2, 8, 1, 4])"
            ]
          },
          "metadata": {
            "tags": []
          },
          "execution_count": 18
        }
      ]
    },
    {
      "cell_type": "code",
      "metadata": {
        "id": "cVTwZz3O8HwP",
        "colab_type": "code",
        "colab": {
          "base_uri": "https://localhost:8080/",
          "height": 109
        },
        "outputId": "eecdc64f-ac2c-4eba-9dd9-4b62e0553705"
      },
      "source": [
        "np.random.randint(1,10, (5,5))"
      ],
      "execution_count": 29,
      "outputs": [
        {
          "output_type": "execute_result",
          "data": {
            "text/plain": [
              "array([[4, 8, 8, 5, 6],\n",
              "       [4, 7, 9, 1, 3],\n",
              "       [8, 8, 8, 4, 1],\n",
              "       [9, 8, 8, 2, 2],\n",
              "       [4, 1, 9, 7, 5]])"
            ]
          },
          "metadata": {
            "tags": []
          },
          "execution_count": 29
        }
      ]
    },
    {
      "cell_type": "code",
      "metadata": {
        "id": "-FY00_w48KfA",
        "colab_type": "code",
        "colab": {
          "base_uri": "https://localhost:8080/",
          "height": 109
        },
        "outputId": "f2eb44bd-20e6-49a8-c9c9-3bd3313625f5"
      },
      "source": [
        "x = np.random.randint(1,10, (5,5))\n",
        "x"
      ],
      "execution_count": 23,
      "outputs": [
        {
          "output_type": "execute_result",
          "data": {
            "text/plain": [
              "array([[1, 7, 2, 2, 3],\n",
              "       [8, 1, 2, 8, 8],\n",
              "       [8, 8, 5, 3, 5],\n",
              "       [6, 8, 1, 3, 7],\n",
              "       [5, 7, 3, 4, 6]])"
            ]
          },
          "metadata": {
            "tags": []
          },
          "execution_count": 23
        }
      ]
    },
    {
      "cell_type": "code",
      "metadata": {
        "id": "VfDEWjlu8SCk",
        "colab_type": "code",
        "colab": {
          "base_uri": "https://localhost:8080/",
          "height": 35
        },
        "outputId": "43877270-f0c4-47d8-ae4a-4bdbb409dad1"
      },
      "source": [
        "x[0]"
      ],
      "execution_count": 24,
      "outputs": [
        {
          "output_type": "execute_result",
          "data": {
            "text/plain": [
              "array([1, 7, 2, 2, 3])"
            ]
          },
          "metadata": {
            "tags": []
          },
          "execution_count": 24
        }
      ]
    },
    {
      "cell_type": "code",
      "metadata": {
        "id": "aW9eGmJg8aPw",
        "colab_type": "code",
        "colab": {
          "base_uri": "https://localhost:8080/",
          "height": 109
        },
        "outputId": "1641cfc9-c489-4005-8961-cce83d685832"
      },
      "source": [
        "np.random.seed(1)\n",
        "np.random.randint(1,10, (5,5))"
      ],
      "execution_count": 30,
      "outputs": [
        {
          "output_type": "execute_result",
          "data": {
            "text/plain": [
              "array([[6, 9, 6, 1, 1],\n",
              "       [2, 8, 7, 3, 5],\n",
              "       [6, 3, 5, 3, 5],\n",
              "       [8, 8, 2, 8, 1],\n",
              "       [7, 8, 7, 2, 1]])"
            ]
          },
          "metadata": {
            "tags": []
          },
          "execution_count": 30
        }
      ]
    },
    {
      "cell_type": "code",
      "metadata": {
        "id": "vnuOBWGW8631",
        "colab_type": "code",
        "colab": {}
      },
      "source": [
        ""
      ],
      "execution_count": null,
      "outputs": []
    }
  ]
}